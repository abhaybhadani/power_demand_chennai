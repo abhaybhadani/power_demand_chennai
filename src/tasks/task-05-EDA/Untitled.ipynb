{
 "cells": [
  {
   "cell_type": "code",
   "execution_count": 3,
   "id": "df15907a",
   "metadata": {},
   "outputs": [
    {
     "name": "stdout",
     "output_type": "stream",
     "text": [
      "/home/abhay.bhadani/Omdena/Omdena_Chennai/power_demand_chennai/src/tasks/task-05-EDA\r\n"
     ]
    }
   ],
   "source": [
    "!pwd"
   ]
  },
  {
   "cell_type": "code",
   "execution_count": 4,
   "id": "a892ee23",
   "metadata": {},
   "outputs": [
    {
     "data": {
      "text/plain": [
       "DeltaGenerator(_root_container=0, _provided_cursor=None, _parent=None, _block_type=None, _form_data=None)"
      ]
     },
     "execution_count": 4,
     "metadata": {},
     "output_type": "execute_result"
    },
    {
     "data": {
      "image/png": "[encoded data removed]",
      "text/plain": [
       "<Figure size 720x360 with 1 Axes>"
      ]
     },
     "metadata": {
      "needs_background": "light"
     },
     "output_type": "display_data"
    }
   ],
   "source": [
    "#Import Libraries\n",
    "\n",
    "import pandas as pd\n",
    "import numpy as np\n",
    "import matplotlib.pyplot as plt\n",
    "import seaborn as sns\n",
    "import plotly.express as px\n",
    "import streamlit as st\n",
    "\n",
    "# st.set_page_config(layout=\"wide\")\n",
    "\n",
    "# Title and Subheader\n",
    "# st.title(\"Electricity Power Outage Analysis\")\n",
    "\n",
    "# st.subheader(\"Dataset overview\")\n",
    "\n",
    "# st.text(\"Consumer and Consumption dataset\")\n",
    "\n",
    "\n",
    "# EDA\n",
    "# To Improve speed and cache data\n",
    "# @st.cache(persist=True)\n",
    "def load_data():\n",
    "\t\n",
    "\tdf = pd.read_csv ('../../data/cleaned data/electricity_consumption_consolidated.csv')\n",
    "\treturn df \n",
    "\n",
    "\n",
    "df = load_data()\n",
    "\n",
    "\n",
    "# # Show Dataset\n",
    "# if st.checkbox(\"Preview DataFrame\"):\n",
    "\t\n",
    "#         if st.button(\"Head\"):\n",
    "#             st.write(df.head())\n",
    "#         if st.button(\"Tail\"):\n",
    "#             st.write(df.tail())\n",
    "#         if st.button(\"Describe\"):\n",
    "#             st.write(df.describe())\n",
    "#         else:\n",
    "#             st.write(df.head(5))\n",
    "\n",
    "# # Show Entire Dataframe\n",
    "# if st.checkbox(\"Show All DataFrame\"):\n",
    "# \tst.dataframe(df)\n",
    "\n",
    "# # Show Description\n",
    "# if st.checkbox(\"Show All Column Name\"):\n",
    "# \tst.text(\"Columns:\")\n",
    "# \tst.write(df.columns)\n",
    "\n",
    "# # Dimensions\n",
    "# data_dim = st.radio('What Dimension Do You Want to Show',('Rows','Columns'))\n",
    "# if data_dim == 'Rows':\n",
    "# \tst.text(\"Showing Length of Rows\")\n",
    "# \tst.write(len(df))\n",
    "# if data_dim == 'Columns':\n",
    "# \tst.text(\"Showing Length of Columns\")\n",
    "# \tst.write(df.shape[1])\n",
    "\n",
    "\n",
    "\n",
    "# #check for null values\n",
    "# st.text(\"check for null values\")\n",
    "# st.write(df.isnull())\n",
    "\n",
    "# #visualization analysis of the data\n",
    "# st.header(\"Visualization analysis of the data\")\n",
    "fig = plt.figure(figsize=(10,5))\n",
    "sns.set_style('whitegrid')\n",
    "sns.countplot(x='Category',data=df)\n",
    "st.pyplot(fig)\n"
   ]
  }
 ],
 "metadata": {
  "kernelspec": {
   "display_name": "Python 3",
   "language": "python",
   "name": "python3"
  },
  "language_info": {
   "codemirror_mode": {
    "name": "ipython",
    "version": 3
   },
   "file_extension": ".py",
   "mimetype": "text/x-python",
   "name": "python",
   "nbconvert_exporter": "python",
   "pygments_lexer": "ipython3",
   "version": "3.9.7"
  }
 },
 "nbformat": 4,
 "nbformat_minor": 5
}
